{
 "cells": [
  {
   "cell_type": "markdown",
   "metadata": {},
   "source": [
    "## To predict the salary range based on the years of experience of candidate."
   ]
  },
  {
   "cell_type": "markdown",
   "metadata": {},
   "source": [
    "### Simple Linear Regression"
   ]
  },
  {
   "cell_type": "code",
   "execution_count": 1,
   "metadata": {},
   "outputs": [
    {
     "data": {
      "text/plain": [
       "LinearRegression()"
      ]
     },
     "execution_count": 1,
     "metadata": {},
     "output_type": "execute_result"
    }
   ],
   "source": [
    "# Import Library files\n",
    "\n",
    "import pandas as pd                    # Pandas library to read .csv files\n",
    "\n",
    "data=pd.read_csv(\"Salary.csv\")    # Read data set and assign it to an oblject variable\n",
    "\n",
    "# Assign features to input & output variables\n",
    "\n",
    "x=data[[\"YearsExperience\"]]  # Variable name x is independent for input features\n",
    "y=data[[\"Salary\"]]             # Variable name y is dependent for output feature\n",
    "\n",
    "# Spliting Training and Test data set\n",
    "\n",
    "from sklearn.model_selection import train_test_split # Data set split by'train_test_split' func. is called \n",
    "                                                     # from model_selection class from sk-learn library file\n",
    "x_train, x_test, y_train, y_test= train_test_split(x,y,test_size=0.2,random_state=0)\n",
    "                                      # Values assigned to training and test variables based on orders\n",
    "                                      # Test set is sized as 0.2 from Data set & remaining for Training set\n",
    "\n",
    "# Training the model by Fitting the Training data set in the LinearRegression Algorithm\n",
    "\n",
    "from sklearn.linear_model import LinearRegression    # 'LinearRegression' function is called \n",
    "                                                     # from linear_model class from sk-learn library file\n",
    "regressor=LinearRegression()          # Function is assigned to an object variable for an easy access       \n",
    "regressor.fit(x_train,y_train)        # Tarining sets are substituted to LR Algorithm by fit function\n"
   ]
  },
  {
   "cell_type": "code",
   "execution_count": 2,
   "metadata": {},
   "outputs": [
    {
     "data": {
      "text/plain": [
       "0.988169515729126"
      ]
     },
     "execution_count": 2,
     "metadata": {},
     "output_type": "execute_result"
    }
   ],
   "source": [
    "# Model evaluations\n",
    "\n",
    "y_pred=regressor.predict(x_test)      # Prediction is done by Test set by 'predict' function \n",
    "                                      # y_pred has model predicted outputs in an array for all the test set inputs\n",
    "\n",
    "from sklearn.metrics import r2_score  # 'r2_score' function is called \n",
    "                                      # from metrics class from sk-learn library file\n",
    "r_score=r2_score(y_test,y_pred)       # It compares model predicted outputs with original test set outputs \n",
    "\n",
    "r_score                               # if the Result of r2 closer to 1 then the model performs well\n"
   ]
  },
  {
   "cell_type": "code",
   "execution_count": 3,
   "metadata": {},
   "outputs": [
    {
     "name": "stdout",
     "output_type": "stream",
     "text": [
      "Enter the Years of Experience: 5\n"
     ]
    }
   ],
   "source": [
    "# Getting User inputs to the model\n",
    "\n",
    "prediction_input=float(input(\"Enter the Years of Experience: \"))         # Enter the Number of year experiences\n"
   ]
  },
  {
   "cell_type": "code",
   "execution_count": 4,
   "metadata": {},
   "outputs": [
    {
     "name": "stdout",
     "output_type": "stream",
     "text": [
      "Salary for 5.0 Year(s) of Experience is= [[73342.97478427]]\n"
     ]
    },
    {
     "name": "stderr",
     "output_type": "stream",
     "text": [
      "C:\\Users\\ArulMuruganS\\Anaconda3\\envs\\AI\\lib\\site-packages\\sklearn\\base.py:442: UserWarning: X does not have valid feature names, but LinearRegression was fitted with feature names\n",
      "  \"X does not have valid feature names, but\"\n"
     ]
    }
   ],
   "source": [
    "future_prediction=regressor.predict([[prediction_input]])    # User input to the model by predict fuction\n",
    "print(\"Salary for\",prediction_input,\"Year(s) of Experience is= {}\".format(future_prediction))   # Output\n"
   ]
  },
  {
   "cell_type": "code",
   "execution_count": 6,
   "metadata": {
    "scrolled": true
   },
   "outputs": [
    {
     "data": {
      "image/png": "[encoded data removed]",
      "text/plain": [
       "<Figure size 432x288 with 1 Axes>"
      ]
     },
     "metadata": {
      "needs_background": "light"
     },
     "output_type": "display_data"
    }
   ],
   "source": [
    "import matplotlib.pyplot as plt\n",
    "plt.scatter(x,y)\n",
    "plt.xlabel('YearsExperience',fontsize=15)\n",
    "plt.ylabel('Salary',fontsize=15)\n",
    "plt.show()"
   ]
  },
  {
   "cell_type": "code",
   "execution_count": null,
   "metadata": {},
   "outputs": [],
   "source": []
  }
 ],
 "metadata": {
  "kernelspec": {
   "display_name": "Python 3",
   "language": "python",
   "name": "python3"
  },
  "language_info": {
   "codemirror_mode": {
    "name": "ipython",
    "version": 3
   },
   "file_extension": ".py",
   "mimetype": "text/x-python",
   "name": "python",
   "nbconvert_exporter": "python",
   "pygments_lexer": "ipython3",
   "version": "3.7.6"
  }
 },
 "nbformat": 4,
 "nbformat_minor": 2
}
