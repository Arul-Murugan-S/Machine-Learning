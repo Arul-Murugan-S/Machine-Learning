{
 "cells": [
  {
   "cell_type": "markdown",
   "id": "c6995ce7",
   "metadata": {},
   "source": [
    "### Deployment of finalized Model "
   ]
  },
  {
   "cell_type": "code",
   "execution_count": 3,
   "id": "5c6b3946",
   "metadata": {},
   "outputs": [
    {
     "name": "stdout",
     "output_type": "stream",
     "text": [
      "[140505.2204787]\n"
     ]
    }
   ],
   "source": [
    "#Running the finalized Model \n",
    "import pickle\n",
    "loaded_model = pickle.load(open('finalized_model.sav','rb'))\n",
    "result = loaded_model.predict([[30,28,4,0,1]])\n",
    "print(result)"
   ]
  },
  {
   "cell_type": "code",
   "execution_count": null,
   "id": "f49671fe",
   "metadata": {},
   "outputs": [],
   "source": []
  }
 ],
 "metadata": {
  "kernelspec": {
   "display_name": "Python 3",
   "language": "python",
   "name": "python3"
  },
  "language_info": {
   "codemirror_mode": {
    "name": "ipython",
    "version": 3
   },
   "file_extension": ".py",
   "mimetype": "text/x-python",
   "name": "python",
   "nbconvert_exporter": "python",
   "pygments_lexer": "ipython3",
   "version": "3.7.6"
  }
 },
 "nbformat": 4,
 "nbformat_minor": 5
}
